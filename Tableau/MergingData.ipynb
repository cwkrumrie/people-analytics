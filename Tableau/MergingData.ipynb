{
 "cells": [
  {
   "cell_type": "markdown",
   "id": "f044f1d9",
   "metadata": {},
   "source": [
    "Importing and merging data on shared \"Employee_ID\" data point."
   ]
  },
  {
   "cell_type": "code",
   "execution_count": 2,
   "id": "6e2d323d",
   "metadata": {},
   "outputs": [],
   "source": [
    "import pandas as pd\n",
    "\n",
    "df1 = pd.read_csv(r'C:\\\\Users\\\\cwkru\\\\OneDrive\\\\People_Analytics\\\\Tableau\\\\employee_data.csv')\n",
    "df2 = pd.read_csv(r'C:\\\\Users\\\\cwkru\\\\OneDrive\\\\People_Analytics\\\\Tableau\\\\employee_engagement_survey_data.csv')\n",
    "df3 = pd.read_csv(r'C:\\\\Users\\\\cwkru\\\\OneDrive\\\\People_Analytics\\\\Tableau\\\\training_and_development_data.csv')\n",
    "\n",
    "merged_df = df1.merge(df2, on='Employee_ID') \\\n",
    "               .merge(df3, on='Employee_ID') \n",
    "\n",
    "merged_df.to_csv('joined_employee_dataset.csv', index=False)"
   ]
  }
 ],
 "metadata": {
  "kernelspec": {
   "display_name": ".venv",
   "language": "python",
   "name": "python3"
  },
  "language_info": {
   "codemirror_mode": {
    "name": "ipython",
    "version": 3
   },
   "file_extension": ".py",
   "mimetype": "text/x-python",
   "name": "python",
   "nbconvert_exporter": "python",
   "pygments_lexer": "ipython3",
   "version": "3.13.5"
  }
 },
 "nbformat": 4,
 "nbformat_minor": 5
}
